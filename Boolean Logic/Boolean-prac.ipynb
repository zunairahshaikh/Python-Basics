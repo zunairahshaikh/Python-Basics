{
  "nbformat": 4,
  "nbformat_minor": 0,
  "metadata": {
    "colab": {
      "provenance": [],
      "include_colab_link": true
    },
    "kernelspec": {
      "name": "python3",
      "display_name": "Python 3"
    },
    "language_info": {
      "name": "python"
    }
  },
  "cells": [
    {
      "cell_type": "markdown",
      "metadata": {
        "id": "view-in-github",
        "colab_type": "text"
      },
      "source": [
        "<a href=\"https://colab.research.google.com/github/zunairahshaikh/Python-Basics/blob/main/Boolean%20Logic/Boolean-prac.ipynb\" target=\"_parent\"><img src=\"https://colab.research.google.com/assets/colab-badge.svg\" alt=\"Open In Colab\"/></a>"
      ]
    },
    {
      "cell_type": "markdown",
      "metadata": {
        "id": "UcW_Vp-APXr-"
      },
      "source": [
        "## **Practice: Boolean logic**\n",
        "\n",
        "In this sheet, we'll review boolean logic.\n",
        "\n",
        "**Exercise 1**\n",
        "\n",
        "Create a code box below. Create a boolean variable (name it however you like), set it equal to True, and print it out."
      ]
    },
    {
      "cell_type": "code",
      "source": [
        "dueDate= True\n",
        "print (dueDate)"
      ],
      "metadata": {
        "colab": {
          "base_uri": "https://localhost:8080/"
        },
        "id": "wU3bQRzbdZwD",
        "outputId": "4e4f1d60-6ab8-47e9-efe6-b30458f48981"
      },
      "execution_count": null,
      "outputs": [
        {
          "output_type": "stream",
          "name": "stdout",
          "text": [
            "True\n"
          ]
        }
      ]
    },
    {
      "cell_type": "markdown",
      "metadata": {
        "id": "ssT6s9IrPxux"
      },
      "source": [
        "**Exercise 2**\n",
        "\n",
        "Create code box below. Create two variables called ``thing1`` and ``thing2``, one equal to 5, one equal 7. Write boolean expressions to check if:\n",
        "- 5 is less than 7\n",
        "- 5 equals 7\n",
        "- 5 is not equal to 7\n",
        "\n",
        "Run your code to make sure it prints out you expect."
      ]
    },
    {
      "cell_type": "code",
      "source": [
        "thing1 = 5\n",
        "thing2 = 7\n",
        "print(thing1 < thing2)\n",
        "print(thing1==thing2)\n",
        "print(thing1!=thing2)"
      ],
      "metadata": {
        "colab": {
          "base_uri": "https://localhost:8080/"
        },
        "id": "rmmyTC6MdmL1",
        "outputId": "8ae05951-cf0b-49a8-bd11-0bfdc867ce84"
      },
      "execution_count": null,
      "outputs": [
        {
          "output_type": "stream",
          "name": "stdout",
          "text": [
            "True\n",
            "False\n",
            "True\n"
          ]
        }
      ]
    },
    {
      "cell_type": "markdown",
      "metadata": {
        "id": "pF3ciPNOQNvo"
      },
      "source": [
        "**Exercise 3**\n",
        "\n",
        "Create a code box below. Create another variable called ``thing3``. Set it equal to 3. Write boolean expressions using ``not``, ``and``, ``or`` to check if:\n",
        "- 5 is not equal to 7\n",
        "- 5 is less than both 3 and 7\n",
        "- 5 is greater than 3 and smaller than 7\n",
        "- 5 is greater than at least one of 3 and 7\n",
        "\n",
        "Run your code to make sure it prints out you expect."
      ]
    },
    {
      "cell_type": "code",
      "source": [
        "thing3 = 3\n",
        "print(not thing1==thing2)\n",
        "print(thing1 < thing2 and thing1 < thing3)\n",
        "print(thing1>thing3 and thing1<thing2)\n",
        "print(thing1>thing2 or thing1 > thing3)"
      ],
      "metadata": {
        "colab": {
          "base_uri": "https://localhost:8080/"
        },
        "id": "7rRwCevfed1s",
        "outputId": "cb844d95-9541-4d3c-b871-786fad3cc87e"
      },
      "execution_count": null,
      "outputs": [
        {
          "output_type": "stream",
          "name": "stdout",
          "text": [
            "True\n",
            "False\n",
            "True\n",
            "True\n"
          ]
        }
      ]
    }
  ]
}