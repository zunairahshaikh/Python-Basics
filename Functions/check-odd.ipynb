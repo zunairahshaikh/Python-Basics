{
  "nbformat": 4,
  "nbformat_minor": 0,
  "metadata": {
    "colab": {
      "provenance": [],
      "authorship_tag": "ABX9TyOIVTJ4e0+EoHj56PSD+Q06",
      "include_colab_link": true
    },
    "kernelspec": {
      "name": "python3",
      "display_name": "Python 3"
    },
    "language_info": {
      "name": "python"
    }
  },
  "cells": [
    {
      "cell_type": "markdown",
      "metadata": {
        "id": "view-in-github",
        "colab_type": "text"
      },
      "source": [
        "<a href=\"https://colab.research.google.com/github/zunairahshaikh/Python-Basics/blob/main/Functions/check-odd.ipynb\" target=\"_parent\"><img src=\"https://colab.research.google.com/assets/colab-badge.svg\" alt=\"Open In Colab\"/></a>"
      ]
    },
    {
      "cell_type": "code",
      "execution_count": null,
      "metadata": {
        "colab": {
          "base_uri": "https://localhost:8080/"
        },
        "id": "gDQ7w-7FzQE-",
        "outputId": "55ec1144-3847-4489-f859-a795822c8fe4"
      },
      "outputs": [
        {
          "output_type": "stream",
          "name": "stdout",
          "text": [
            "enter an odd number: 2\n",
            "enter an odd number: 3\n",
            "valid number entered\n",
            "None\n"
          ]
        }
      ],
      "source": [
        "def inputOddNumber():\n",
        "  num = 0\n",
        "  while num % 2==0:\n",
        "    num = int(input(\"enter an odd number: \"))\n",
        "  print(\"valid number entered\")\n",
        "\n",
        "x =inputOddNumber()\n",
        "print(x)"
      ]
    }
  ]
}